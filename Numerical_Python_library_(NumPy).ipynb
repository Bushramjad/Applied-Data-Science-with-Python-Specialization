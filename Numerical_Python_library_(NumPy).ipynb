{
  "nbformat": 4,
  "nbformat_minor": 0,
  "metadata": {
    "colab": {
      "name": "Numerical Python library (NumPy).ipynb",
      "provenance": [],
      "authorship_tag": "ABX9TyOZ4TxklPvPVgC5/hfqAqa1"
    },
    "kernelspec": {
      "name": "python3",
      "display_name": "Python 3"
    },
    "language_info": {
      "name": "python"
    }
  },
  "cells": [
    {
      "cell_type": "code",
      "metadata": {
        "id": "fs8vifwQqaGC"
      },
      "source": [
        "import numpy as np\n",
        "import math"
      ],
      "execution_count": 1,
      "outputs": []
    },
    {
      "cell_type": "markdown",
      "metadata": {
        "id": "sWP7SNlMq2eb"
      },
      "source": [
        "**Array creation**"
      ]
    },
    {
      "cell_type": "code",
      "metadata": {
        "colab": {
          "base_uri": "https://localhost:8080/"
        },
        "id": "2tdJneHaqvQA",
        "outputId": "73605522-e6eb-4579-f38f-988d5311d8ef"
      },
      "source": [
        "# single dimension array\n",
        "a = np.array([1,2,3])\n",
        "print(a)"
      ],
      "execution_count": null,
      "outputs": [
        {
          "output_type": "stream",
          "text": [
            "[1 2 3]\n"
          ],
          "name": "stdout"
        }
      ]
    },
    {
      "cell_type": "code",
      "metadata": {
        "colab": {
          "base_uri": "https://localhost:8080/"
        },
        "id": "jd6vLx5oq9_v",
        "outputId": "7fcc0752-7c76-45b5-b405-c9bffe805f1c"
      },
      "source": [
        "# to print the dimensions of an array\n",
        "a.ndim"
      ],
      "execution_count": null,
      "outputs": [
        {
          "output_type": "execute_result",
          "data": {
            "text/plain": [
              "1"
            ]
          },
          "metadata": {
            "tags": []
          },
          "execution_count": 8
        }
      ]
    },
    {
      "cell_type": "code",
      "metadata": {
        "colab": {
          "base_uri": "https://localhost:8080/"
        },
        "id": "akIHZloFr9WL",
        "outputId": "f4a0cf7a-8c6b-4a07-91b2-47d02e935d65"
      },
      "source": [
        "#length of each dimension\n",
        "a.shape"
      ],
      "execution_count": null,
      "outputs": [
        {
          "output_type": "execute_result",
          "data": {
            "text/plain": [
              "(3,)"
            ]
          },
          "metadata": {
            "tags": []
          },
          "execution_count": 15
        }
      ]
    },
    {
      "cell_type": "code",
      "metadata": {
        "colab": {
          "base_uri": "https://localhost:8080/"
        },
        "id": "VFoSduhZrHw7",
        "outputId": "b8459aef-6321-4dd7-abbe-5fe1c358bd54"
      },
      "source": [
        "# multi dimensional array\n",
        "b = np.array([[1,2,3], [4,5,6], [7,8,9]])\n",
        "print(b)"
      ],
      "execution_count": null,
      "outputs": [
        {
          "output_type": "stream",
          "text": [
            "[[1 2 3]\n",
            " [4 5 6]\n",
            " [7 8 9]]\n"
          ],
          "name": "stdout"
        }
      ]
    },
    {
      "cell_type": "code",
      "metadata": {
        "colab": {
          "base_uri": "https://localhost:8080/"
        },
        "id": "8t3Gk6XNrkdJ",
        "outputId": "efb6a16d-1193-4f06-9b0e-76cf3139685b"
      },
      "source": [
        "b.ndim"
      ],
      "execution_count": null,
      "outputs": [
        {
          "output_type": "execute_result",
          "data": {
            "text/plain": [
              "2"
            ]
          },
          "metadata": {
            "tags": []
          },
          "execution_count": 11
        }
      ]
    },
    {
      "cell_type": "code",
      "metadata": {
        "colab": {
          "base_uri": "https://localhost:8080/"
        },
        "id": "kHCAe8svrrDc",
        "outputId": "eeeb0f84-e2a0-46d2-cd65-925a1ba61b7e"
      },
      "source": [
        "b.shape"
      ],
      "execution_count": null,
      "outputs": [
        {
          "output_type": "execute_result",
          "data": {
            "text/plain": [
              "(3, 3)"
            ]
          },
          "metadata": {
            "tags": []
          },
          "execution_count": 14
        }
      ]
    },
    {
      "cell_type": "code",
      "metadata": {
        "colab": {
          "base_uri": "https://localhost:8080/"
        },
        "id": "TqVpEWgbr1Nx",
        "outputId": "a5751b21-649f-4f94-ce56-32fb128df797"
      },
      "source": [
        "# type of items in the array\n",
        "print(a.dtype)\n",
        "print(b.dtype)"
      ],
      "execution_count": null,
      "outputs": [
        {
          "output_type": "stream",
          "text": [
            "int64\n",
            "int64\n"
          ],
          "name": "stdout"
        }
      ]
    },
    {
      "cell_type": "code",
      "metadata": {
        "colab": {
          "base_uri": "https://localhost:8080/"
        },
        "id": "f7C9-Lh6sJ3v",
        "outputId": "bd66057a-78e3-4658-d164-efa23b3a06eb"
      },
      "source": [
        "#Numpy arrays with 0s and 1s\n",
        "d = np.zeros([2,3])\n",
        "print(d)\n",
        "\n",
        "p = np.ones([2,3])\n",
        "print(p)"
      ],
      "execution_count": null,
      "outputs": [
        {
          "output_type": "stream",
          "text": [
            "[[0. 0. 0.]\n",
            " [0. 0. 0.]]\n",
            "[[1. 1. 1.]\n",
            " [1. 1. 1.]]\n"
          ],
          "name": "stdout"
        }
      ]
    },
    {
      "cell_type": "markdown",
      "metadata": {
        "id": "x2TyiTGQsygH"
      },
      "source": [
        "Generating array with random numbers"
      ]
    },
    {
      "cell_type": "code",
      "metadata": {
        "colab": {
          "base_uri": "https://localhost:8080/"
        },
        "id": "OInllx92sl7m",
        "outputId": "3d373f17-5dbd-4a01-dec9-1a8348227819"
      },
      "source": [
        "np.random.rand(2,3)"
      ],
      "execution_count": null,
      "outputs": [
        {
          "output_type": "execute_result",
          "data": {
            "text/plain": [
              "array([[0.18585168, 0.14544717, 0.60779577],\n",
              "       [0.76798846, 0.35284975, 0.10627365]])"
            ]
          },
          "metadata": {
            "tags": []
          },
          "execution_count": 25
        }
      ]
    },
    {
      "cell_type": "markdown",
      "metadata": {
        "id": "XGUyjJWftZIy"
      },
      "source": [
        "Generating array in a sequence\n",
        "(Starting bound, ending bound, difference between the two)"
      ]
    },
    {
      "cell_type": "code",
      "metadata": {
        "colab": {
          "base_uri": "https://localhost:8080/"
        },
        "id": "IuSDH9Aqsm7V",
        "outputId": "a823535b-0f60-4ffa-f7ac-776e1798dacc"
      },
      "source": [
        "np.arange(10,50,2)"
      ],
      "execution_count": null,
      "outputs": [
        {
          "output_type": "execute_result",
          "data": {
            "text/plain": [
              "array([10, 12, 14, 16, 18, 20, 22, 24, 26, 28, 30, 32, 34, 36, 38, 40, 42,\n",
              "       44, 46, 48])"
            ]
          },
          "metadata": {
            "tags": []
          },
          "execution_count": 24
        }
      ]
    },
    {
      "cell_type": "markdown",
      "metadata": {
        "id": "q2-5iVWNt_6G"
      },
      "source": [
        "Generating sequence of floats (Starting bound, ending bound, # of numbers)"
      ]
    },
    {
      "cell_type": "code",
      "metadata": {
        "colab": {
          "base_uri": "https://localhost:8080/"
        },
        "id": "hVT_q85AttkP",
        "outputId": "bb51dfab-ba21-48d4-fda2-ad329f95afb3"
      },
      "source": [
        "np.linspace(10,50,15)"
      ],
      "execution_count": null,
      "outputs": [
        {
          "output_type": "execute_result",
          "data": {
            "text/plain": [
              "array([10.        , 12.85714286, 15.71428571, 18.57142857, 21.42857143,\n",
              "       24.28571429, 27.14285714, 30.        , 32.85714286, 35.71428571,\n",
              "       38.57142857, 41.42857143, 44.28571429, 47.14285714, 50.        ])"
            ]
          },
          "metadata": {
            "tags": []
          },
          "execution_count": 26
        }
      ]
    },
    {
      "cell_type": "markdown",
      "metadata": {
        "id": "Bh_YdgG8uUT_"
      },
      "source": [
        "**Array Operations**"
      ]
    },
    {
      "cell_type": "markdown",
      "metadata": {
        "id": "_C9HBTM5RTht"
      },
      "source": [
        "Arithmetic operators on array apply element wise "
      ]
    },
    {
      "cell_type": "code",
      "metadata": {
        "id": "U6rAg7aQuLGt"
      },
      "source": [
        "a = np.array([10,20,30,40])\n",
        "b = np.array([1,2,3,4])"
      ],
      "execution_count": 2,
      "outputs": []
    },
    {
      "cell_type": "code",
      "metadata": {
        "colab": {
          "base_uri": "https://localhost:8080/"
        },
        "id": "CnFPfBs0RlPK",
        "outputId": "e9f7c38e-87d2-4a94-f68f-d888060bad4a"
      },
      "source": [
        "c = a-b\n",
        "print(c)\n",
        "\n",
        "d=a*b\n",
        "print(d)"
      ],
      "execution_count": 3,
      "outputs": [
        {
          "output_type": "stream",
          "text": [
            "[ 9 18 27 36]\n",
            "[ 10  40  90 160]\n"
          ],
          "name": "stdout"
        }
      ]
    },
    {
      "cell_type": "code",
      "metadata": {
        "colab": {
          "base_uri": "https://localhost:8080/"
        },
        "id": "ikai-h1yRrfj",
        "outputId": "4ee47a84-913b-4bb8-8fdc-b4b1d92f5a60"
      },
      "source": [
        "farenheit = np.array([0,-10,-5,-15,0])\n",
        "celcius = (farenheit - 31) * (5/9)\n",
        "celcius"
      ],
      "execution_count": 4,
      "outputs": [
        {
          "output_type": "execute_result",
          "data": {
            "text/plain": [
              "array([-17.22222222, -22.77777778, -20.        , -25.55555556,\n",
              "       -17.22222222])"
            ]
          },
          "metadata": {
            "tags": []
          },
          "execution_count": 4
        }
      ]
    },
    {
      "cell_type": "code",
      "metadata": {
        "colab": {
          "base_uri": "https://localhost:8080/"
        },
        "id": "1HBuTORLSE6Z",
        "outputId": "d5c15656-7169-4d07-ad2b-d54330ae1732"
      },
      "source": [
        "celcius>-20"
      ],
      "execution_count": 5,
      "outputs": [
        {
          "output_type": "execute_result",
          "data": {
            "text/plain": [
              "array([ True, False, False, False,  True])"
            ]
          },
          "metadata": {
            "tags": []
          },
          "execution_count": 5
        }
      ]
    },
    {
      "cell_type": "code",
      "metadata": {
        "colab": {
          "base_uri": "https://localhost:8080/"
        },
        "id": "z40XZTRdSPTj",
        "outputId": "de72493b-b8f7-4dd7-a571-795b4169a3cd"
      },
      "source": [
        "celcius % 2 == 0  "
      ],
      "execution_count": 8,
      "outputs": [
        {
          "output_type": "execute_result",
          "data": {
            "text/plain": [
              "array([False, False,  True, False, False])"
            ]
          },
          "metadata": {
            "tags": []
          },
          "execution_count": 8
        }
      ]
    },
    {
      "cell_type": "markdown",
      "metadata": {
        "id": "8gD3mvfMSeVf"
      },
      "source": [
        "numpy also supports matrix manipulation"
      ]
    },
    {
      "cell_type": "code",
      "metadata": {
        "colab": {
          "base_uri": "https://localhost:8080/"
        },
        "id": "tLwKZBpMSSdX",
        "outputId": "82c60695-07d2-45d8-fecb-42cd396444f0"
      },
      "source": [
        "A = np.array([[1,1],[0,1]])\n",
        "B = np.array([[2,0],[3,4]])\n",
        "print(A*B) # element wise operation\n",
        "print(A@B) #matrix level operation (dot product)"
      ],
      "execution_count": 13,
      "outputs": [
        {
          "output_type": "stream",
          "text": [
            "[[2 0]\n",
            " [0 4]]\n",
            "[[5 4]\n",
            " [3 4]]\n"
          ],
          "name": "stdout"
        }
      ]
    },
    {
      "cell_type": "code",
      "metadata": {
        "colab": {
          "base_uri": "https://localhost:8080/"
        },
        "id": "RkaOIezdSuE_",
        "outputId": "760fa869-87b8-46fc-b15a-71f405d9af41"
      },
      "source": [
        "#upcasting\n",
        "\n",
        "a1 = np.array([[1,2,3],[4,5,6]])\n",
        "print(a1.dtype)\n",
        "\n",
        "a2 = np.array([[7.1, 8.2, 9.1], [10.4, 11.2, 12.3]])\n",
        "print(a2.dtype)\n",
        "\n",
        "a3 = a1+a2\n",
        "print(a3)\n",
        "print(a3.dtype)"
      ],
      "execution_count": 15,
      "outputs": [
        {
          "output_type": "stream",
          "text": [
            "int64\n",
            "float64\n",
            "[[ 8.1 10.2 12.1]\n",
            " [14.4 16.2 18.3]]\n",
            "float64\n"
          ],
          "name": "stdout"
        }
      ]
    },
    {
      "cell_type": "code",
      "metadata": {
        "colab": {
          "base_uri": "https://localhost:8080/"
        },
        "id": "AUYsIpPST535",
        "outputId": "f1b2b35b-409f-4d5d-dfb3-9d11be9a091f"
      },
      "source": [
        "print(a3.sum())\n",
        "print(a3.max())\n",
        "print(a3.min())\n",
        "print(a3.mean())"
      ],
      "execution_count": 16,
      "outputs": [
        {
          "output_type": "stream",
          "text": [
            "79.3\n",
            "18.3\n",
            "8.1\n",
            "13.216666666666667\n"
          ],
          "name": "stdout"
        }
      ]
    },
    {
      "cell_type": "code",
      "metadata": {
        "colab": {
          "base_uri": "https://localhost:8080/"
        },
        "id": "_4mUu9nHUVUK",
        "outputId": "08df4953-fa1c-48b8-cd34-7be528d0f39c"
      },
      "source": [
        "b = np.arange(1,16,1).reshape(3,5)\n",
        "b"
      ],
      "execution_count": 18,
      "outputs": [
        {
          "output_type": "execute_result",
          "data": {
            "text/plain": [
              "array([[ 1,  2,  3,  4,  5],\n",
              "       [ 6,  7,  8,  9, 10],\n",
              "       [11, 12, 13, 14, 15]])"
            ]
          },
          "metadata": {
            "tags": []
          },
          "execution_count": 18
        }
      ]
    },
    {
      "cell_type": "markdown",
      "metadata": {
        "id": "eQf9vCAdWRMY"
      },
      "source": [
        "**Indexing, Slicing and Iterating**"
      ]
    },
    {
      "cell_type": "markdown",
      "metadata": {
        "id": "7a1wfmpEWdgu"
      },
      "source": [
        "- Indexing"
      ]
    },
    {
      "cell_type": "code",
      "metadata": {
        "colab": {
          "base_uri": "https://localhost:8080/"
        },
        "id": "CdQUMEhHUtLl",
        "outputId": "86599780-14c3-4932-e966-675627b44342"
      },
      "source": [
        "# 1 dimensinal\n",
        "a = np.array([1,3,5,7])\n",
        "a[2]"
      ],
      "execution_count": 21,
      "outputs": [
        {
          "output_type": "execute_result",
          "data": {
            "text/plain": [
              "5"
            ]
          },
          "metadata": {
            "tags": []
          },
          "execution_count": 21
        }
      ]
    },
    {
      "cell_type": "code",
      "metadata": {
        "colab": {
          "base_uri": "https://localhost:8080/"
        },
        "id": "bl2xPGcPWkhk",
        "outputId": "550a742e-fd83-4ba8-b281-e7e47f98fa44"
      },
      "source": [
        "# 2 dimensional\n",
        "a = np.array([[1,2],[3,4],[9,7]])\n",
        "print(a)\n",
        "a[1,1] #starts at 0"
      ],
      "execution_count": 39,
      "outputs": [
        {
          "output_type": "stream",
          "text": [
            "[[1 2]\n",
            " [3 4]\n",
            " [9 7]]\n"
          ],
          "name": "stdout"
        },
        {
          "output_type": "execute_result",
          "data": {
            "text/plain": [
              "4"
            ]
          },
          "metadata": {
            "tags": []
          },
          "execution_count": 39
        }
      ]
    },
    {
      "cell_type": "markdown",
      "metadata": {
        "id": "0XthbwLeX9kF"
      },
      "source": [
        "- Boolean Indexing"
      ]
    },
    {
      "cell_type": "code",
      "metadata": {
        "colab": {
          "base_uri": "https://localhost:8080/"
        },
        "id": "zQRNV011Xd1Y",
        "outputId": "c927bc2d-77be-4b16-e36a-871913eb3a30"
      },
      "source": [
        "print(a>5)"
      ],
      "execution_count": 37,
      "outputs": [
        {
          "output_type": "stream",
          "text": [
            "[[False False]\n",
            " [False False]\n",
            " [ True  True]]\n"
          ],
          "name": "stdout"
        }
      ]
    },
    {
      "cell_type": "code",
      "metadata": {
        "colab": {
          "base_uri": "https://localhost:8080/"
        },
        "id": "t8wczhUMYF_4",
        "outputId": "b1a20b1e-ac7b-4d64-a817-27584a353258"
      },
      "source": [
        "print(a[a>5])"
      ],
      "execution_count": 38,
      "outputs": [
        {
          "output_type": "stream",
          "text": [
            "[9 7]\n"
          ],
          "name": "stdout"
        }
      ]
    },
    {
      "cell_type": "markdown",
      "metadata": {
        "id": "BmGlfNcmYVGK"
      },
      "source": [
        "Slicing (creating sub array) (:)"
      ]
    },
    {
      "cell_type": "code",
      "metadata": {
        "colab": {
          "base_uri": "https://localhost:8080/"
        },
        "id": "ZkjtHir3YOX8",
        "outputId": "265c3a0f-61f5-46b8-e278-a1d72bba9680"
      },
      "source": [
        "a = np.array([1,3,5,7])\n",
        "print(a[:3])\n",
        "print(a[2:3])"
      ],
      "execution_count": 41,
      "outputs": [
        {
          "output_type": "stream",
          "text": [
            "[1 3 5]\n",
            "[5]\n"
          ],
          "name": "stdout"
        }
      ]
    },
    {
      "cell_type": "code",
      "metadata": {
        "colab": {
          "base_uri": "https://localhost:8080/"
        },
        "id": "btytM9EFYitp",
        "outputId": "8bf3385a-905a-40b0-e07e-20546642278e"
      },
      "source": [
        "b = np.array([[1,2,3],[3,4,5]])\n",
        "print(b)"
      ],
      "execution_count": 47,
      "outputs": [
        {
          "output_type": "stream",
          "text": [
            "[[1 2 3]\n",
            " [3 4 5]]\n"
          ],
          "name": "stdout"
        }
      ]
    },
    {
      "cell_type": "code",
      "metadata": {
        "colab": {
          "base_uri": "https://localhost:8080/"
        },
        "id": "J2leaH3QY4wB",
        "outputId": "f83990b7-a71d-47eb-89fb-55f76fb4dfb3"
      },
      "source": [
        "print(b[:1])"
      ],
      "execution_count": 48,
      "outputs": [
        {
          "output_type": "stream",
          "text": [
            "[[1 2 3]]\n"
          ],
          "name": "stdout"
        }
      ]
    },
    {
      "cell_type": "code",
      "metadata": {
        "colab": {
          "base_uri": "https://localhost:8080/"
        },
        "id": "kmkMkLxxZNR2",
        "outputId": "14ba597d-3cbf-45a4-da58-a47436b249d3"
      },
      "source": [
        "print(b[:2,0:1]) #2 rows, 1 column"
      ],
      "execution_count": 52,
      "outputs": [
        {
          "output_type": "stream",
          "text": [
            "[[1]\n",
            " [3]]\n"
          ],
          "name": "stdout"
        }
      ]
    },
    {
      "cell_type": "markdown",
      "metadata": {
        "id": "LMWgatTLZ95N"
      },
      "source": [
        "**Trying Numpy with Datasets**"
      ]
    },
    {
      "cell_type": "code",
      "metadata": {
        "id": "dD0J6IsWZTL1"
      },
      "source": [
        "# wines = np.genfromtxt()"
      ],
      "execution_count": null,
      "outputs": []
    }
  ]
}