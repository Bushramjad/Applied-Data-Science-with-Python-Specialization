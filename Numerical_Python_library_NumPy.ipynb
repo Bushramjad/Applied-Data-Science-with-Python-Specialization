{
  "nbformat": 4,
  "nbformat_minor": 0,
  "metadata": {
    "colab": {
      "name": "Numerical Python library (NumPy).ipynb",
      "provenance": [],
      "authorship_tag": "ABX9TyNyhVmbsvr8wz1IF2oHK4+y"
    },
    "kernelspec": {
      "name": "python3",
      "display_name": "Python 3"
    },
    "language_info": {
      "name": "python"
    }
  },
  "cells": [
    {
      "cell_type": "code",
      "metadata": {
        "id": "fs8vifwQqaGC"
      },
      "source": [
        "import numpy as np\n",
        "import math"
      ],
      "execution_count": 2,
      "outputs": []
    },
    {
      "cell_type": "markdown",
      "metadata": {
        "id": "sWP7SNlMq2eb"
      },
      "source": [
        "**Array creation**"
      ]
    },
    {
      "cell_type": "code",
      "metadata": {
        "colab": {
          "base_uri": "https://localhost:8080/"
        },
        "id": "2tdJneHaqvQA",
        "outputId": "73605522-e6eb-4579-f38f-988d5311d8ef"
      },
      "source": [
        "# single dimension array\n",
        "a = np.array([1,2,3])\n",
        "print(a)"
      ],
      "execution_count": 12,
      "outputs": [
        {
          "output_type": "stream",
          "text": [
            "[1 2 3]\n"
          ],
          "name": "stdout"
        }
      ]
    },
    {
      "cell_type": "code",
      "metadata": {
        "colab": {
          "base_uri": "https://localhost:8080/"
        },
        "id": "jd6vLx5oq9_v",
        "outputId": "7fcc0752-7c76-45b5-b405-c9bffe805f1c"
      },
      "source": [
        "# to print the dimensions of an array\n",
        "a.ndim"
      ],
      "execution_count": 8,
      "outputs": [
        {
          "output_type": "execute_result",
          "data": {
            "text/plain": [
              "1"
            ]
          },
          "metadata": {
            "tags": []
          },
          "execution_count": 8
        }
      ]
    },
    {
      "cell_type": "code",
      "metadata": {
        "colab": {
          "base_uri": "https://localhost:8080/"
        },
        "id": "akIHZloFr9WL",
        "outputId": "f4a0cf7a-8c6b-4a07-91b2-47d02e935d65"
      },
      "source": [
        "#length of each dimension\n",
        "a.shape"
      ],
      "execution_count": 15,
      "outputs": [
        {
          "output_type": "execute_result",
          "data": {
            "text/plain": [
              "(3,)"
            ]
          },
          "metadata": {
            "tags": []
          },
          "execution_count": 15
        }
      ]
    },
    {
      "cell_type": "code",
      "metadata": {
        "colab": {
          "base_uri": "https://localhost:8080/"
        },
        "id": "VFoSduhZrHw7",
        "outputId": "b8459aef-6321-4dd7-abbe-5fe1c358bd54"
      },
      "source": [
        "# multi dimensional array\n",
        "b = np.array([[1,2,3], [4,5,6], [7,8,9]])\n",
        "print(b)"
      ],
      "execution_count": 10,
      "outputs": [
        {
          "output_type": "stream",
          "text": [
            "[[1 2 3]\n",
            " [4 5 6]\n",
            " [7 8 9]]\n"
          ],
          "name": "stdout"
        }
      ]
    },
    {
      "cell_type": "code",
      "metadata": {
        "colab": {
          "base_uri": "https://localhost:8080/"
        },
        "id": "8t3Gk6XNrkdJ",
        "outputId": "efb6a16d-1193-4f06-9b0e-76cf3139685b"
      },
      "source": [
        "b.ndim"
      ],
      "execution_count": 11,
      "outputs": [
        {
          "output_type": "execute_result",
          "data": {
            "text/plain": [
              "2"
            ]
          },
          "metadata": {
            "tags": []
          },
          "execution_count": 11
        }
      ]
    },
    {
      "cell_type": "code",
      "metadata": {
        "colab": {
          "base_uri": "https://localhost:8080/"
        },
        "id": "kHCAe8svrrDc",
        "outputId": "eeeb0f84-e2a0-46d2-cd65-925a1ba61b7e"
      },
      "source": [
        "b.shape"
      ],
      "execution_count": 14,
      "outputs": [
        {
          "output_type": "execute_result",
          "data": {
            "text/plain": [
              "(3, 3)"
            ]
          },
          "metadata": {
            "tags": []
          },
          "execution_count": 14
        }
      ]
    },
    {
      "cell_type": "code",
      "metadata": {
        "colab": {
          "base_uri": "https://localhost:8080/"
        },
        "id": "TqVpEWgbr1Nx",
        "outputId": "a5751b21-649f-4f94-ce56-32fb128df797"
      },
      "source": [
        "# type of items in the array\n",
        "print(a.dtype)\n",
        "print(b.dtype)"
      ],
      "execution_count": 17,
      "outputs": [
        {
          "output_type": "stream",
          "text": [
            "int64\n",
            "int64\n"
          ],
          "name": "stdout"
        }
      ]
    },
    {
      "cell_type": "code",
      "metadata": {
        "colab": {
          "base_uri": "https://localhost:8080/"
        },
        "id": "f7C9-Lh6sJ3v",
        "outputId": "bd66057a-78e3-4658-d164-efa23b3a06eb"
      },
      "source": [
        "#Numpy arrays with 0s and 1s\n",
        "d = np.zeros([2,3])\n",
        "print(d)\n",
        "\n",
        "p = np.ones([2,3])\n",
        "print(p)"
      ],
      "execution_count": 27,
      "outputs": [
        {
          "output_type": "stream",
          "text": [
            "[[0. 0. 0.]\n",
            " [0. 0. 0.]]\n",
            "[[1. 1. 1.]\n",
            " [1. 1. 1.]]\n"
          ],
          "name": "stdout"
        }
      ]
    },
    {
      "cell_type": "markdown",
      "metadata": {
        "id": "x2TyiTGQsygH"
      },
      "source": [
        "Generating array with random numbers"
      ]
    },
    {
      "cell_type": "code",
      "metadata": {
        "colab": {
          "base_uri": "https://localhost:8080/"
        },
        "id": "OInllx92sl7m",
        "outputId": "3d373f17-5dbd-4a01-dec9-1a8348227819"
      },
      "source": [
        "np.random.rand(2,3)"
      ],
      "execution_count": 25,
      "outputs": [
        {
          "output_type": "execute_result",
          "data": {
            "text/plain": [
              "array([[0.18585168, 0.14544717, 0.60779577],\n",
              "       [0.76798846, 0.35284975, 0.10627365]])"
            ]
          },
          "metadata": {
            "tags": []
          },
          "execution_count": 25
        }
      ]
    },
    {
      "cell_type": "markdown",
      "metadata": {
        "id": "XGUyjJWftZIy"
      },
      "source": [
        "Generating array in a sequence\n",
        "(Starting bound, ending bound, difference between the two)"
      ]
    },
    {
      "cell_type": "code",
      "metadata": {
        "colab": {
          "base_uri": "https://localhost:8080/"
        },
        "id": "IuSDH9Aqsm7V",
        "outputId": "a823535b-0f60-4ffa-f7ac-776e1798dacc"
      },
      "source": [
        "np.arange(10,50,2)"
      ],
      "execution_count": 24,
      "outputs": [
        {
          "output_type": "execute_result",
          "data": {
            "text/plain": [
              "array([10, 12, 14, 16, 18, 20, 22, 24, 26, 28, 30, 32, 34, 36, 38, 40, 42,\n",
              "       44, 46, 48])"
            ]
          },
          "metadata": {
            "tags": []
          },
          "execution_count": 24
        }
      ]
    },
    {
      "cell_type": "markdown",
      "metadata": {
        "id": "q2-5iVWNt_6G"
      },
      "source": [
        "Generating sequence of floats (Starting bound, ending bound, # of numbers)"
      ]
    },
    {
      "cell_type": "code",
      "metadata": {
        "colab": {
          "base_uri": "https://localhost:8080/"
        },
        "id": "hVT_q85AttkP",
        "outputId": "bb51dfab-ba21-48d4-fda2-ad329f95afb3"
      },
      "source": [
        "np.linspace(10,50,15)"
      ],
      "execution_count": 26,
      "outputs": [
        {
          "output_type": "execute_result",
          "data": {
            "text/plain": [
              "array([10.        , 12.85714286, 15.71428571, 18.57142857, 21.42857143,\n",
              "       24.28571429, 27.14285714, 30.        , 32.85714286, 35.71428571,\n",
              "       38.57142857, 41.42857143, 44.28571429, 47.14285714, 50.        ])"
            ]
          },
          "metadata": {
            "tags": []
          },
          "execution_count": 26
        }
      ]
    },
    {
      "cell_type": "markdown",
      "metadata": {
        "id": "Bh_YdgG8uUT_"
      },
      "source": [
        "**Array Operations**"
      ]
    },
    {
      "cell_type": "code",
      "metadata": {
        "id": "U6rAg7aQuLGt"
      },
      "source": [
        ""
      ],
      "execution_count": null,
      "outputs": []
    }
  ]
}