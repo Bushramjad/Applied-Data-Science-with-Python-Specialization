{
  "nbformat": 4,
  "nbformat_minor": 0,
  "metadata": {
    "colab": {
      "name": "Python Lambda and List Comprehensions.ipynb",
      "provenance": [],
      "authorship_tag": "ABX9TyMhkmjRm9w/pLNeBF/2AiTn"
    },
    "kernelspec": {
      "name": "python3",
      "display_name": "Python 3"
    },
    "language_info": {
      "name": "python"
    }
  },
  "cells": [
    {
      "cell_type": "markdown",
      "metadata": {
        "id": "Rrv2cmk2k-0i"
      },
      "source": [
        "**Lamda**"
      ]
    },
    {
      "cell_type": "code",
      "metadata": {
        "id": "i3F0t7_PkX0I"
      },
      "source": [
        "my_function = lambda a, b, c: a + b"
      ],
      "execution_count": 6,
      "outputs": []
    },
    {
      "cell_type": "code",
      "metadata": {
        "colab": {
          "base_uri": "https://localhost:8080/"
        },
        "id": "KQpCY2MRkzv4",
        "outputId": "06386bb1-20bb-4c9c-9c4c-2c2c7d7b6998"
      },
      "source": [
        "my_function(1,2,3)"
      ],
      "execution_count": 7,
      "outputs": [
        {
          "output_type": "execute_result",
          "data": {
            "text/plain": [
              "3"
            ]
          },
          "metadata": {
            "tags": []
          },
          "execution_count": 7
        }
      ]
    },
    {
      "cell_type": "markdown",
      "metadata": {
        "id": "1SaOTccul-4J"
      },
      "source": [
        "**Comprehension**"
      ]
    },
    {
      "cell_type": "markdown",
      "metadata": {
        "id": "4CwVXjoTo6uF"
      },
      "source": [
        "**Example 1**\n",
        "- using for loop"
      ]
    },
    {
      "cell_type": "code",
      "metadata": {
        "colab": {
          "base_uri": "https://localhost:8080/"
        },
        "id": "3EgmrZPok3FU",
        "outputId": "de7d3a5a-89a1-4361-9586-1632acdd7639"
      },
      "source": [
        "my_list = []\n",
        "for x in range(1,1000):\n",
        "  if x % 2 == 0:\n",
        "    my_list.append(x)\n",
        "\n",
        "my_list[0:5]"
      ],
      "execution_count": 9,
      "outputs": [
        {
          "output_type": "execute_result",
          "data": {
            "text/plain": [
              "[2, 4, 6, 8, 10]"
            ]
          },
          "metadata": {
            "tags": []
          },
          "execution_count": 9
        }
      ]
    },
    {
      "cell_type": "markdown",
      "metadata": {
        "id": "Z8exJVeyo-58"
      },
      "source": [
        "- comprehend version"
      ]
    },
    {
      "cell_type": "code",
      "metadata": {
        "colab": {
          "base_uri": "https://localhost:8080/"
        },
        "id": "5I384YnxmN1G",
        "outputId": "d7152190-0c2e-473c-a886-a4799d7046a8"
      },
      "source": [
        "my_list = [x for x in range(1,1000) if x % 2 == 0]\n",
        "my_list[0:5]"
      ],
      "execution_count": 15,
      "outputs": [
        {
          "output_type": "execute_result",
          "data": {
            "text/plain": [
              "[2, 4, 6, 8, 10]"
            ]
          },
          "metadata": {
            "tags": []
          },
          "execution_count": 15
        }
      ]
    },
    {
      "cell_type": "markdown",
      "metadata": {
        "id": "0hRja5azpCXh"
      },
      "source": [
        "**Example 2**\n",
        "\n",
        "Many organizations have user ids which are constrained in some way. Imagine you work at an internet service provider and the user ids are all two letters followed by two numbers (e.g. aa49). Your task at such an organization might be to hold a record on the billing activity for each possible user. \n",
        "\n",
        "Write an initialization line as a single list comprehension which creates a list of all possible user ids. Assume the letters are all lower case.\n",
        "\n",
        "- Using for loop"
      ]
    },
    {
      "cell_type": "code",
      "metadata": {
        "id": "G3u4MJY9pHvD"
      },
      "source": [
        "lowercase = 'abcdefghijklmnopqrstuvwxyz'\n",
        "digits = '0123456789'"
      ],
      "execution_count": null,
      "outputs": []
    },
    {
      "cell_type": "code",
      "metadata": {
        "id": "-KN0uVm2oG7n"
      },
      "source": [
        "for a in lowercase:\n",
        "  for b in lowercase:\n",
        "     for c in digits:\n",
        "       for d in digits:\n",
        "         print(a+b+c+d)"
      ],
      "execution_count": null,
      "outputs": []
    },
    {
      "cell_type": "markdown",
      "metadata": {
        "id": "PY3RNA-8pJy0"
      },
      "source": [
        "- comprehend version"
      ]
    },
    {
      "cell_type": "code",
      "metadata": {
        "colab": {
          "base_uri": "https://localhost:8080/"
        },
        "id": "4Bv-yCE5ognK",
        "outputId": "b8347d3a-e9b0-4d9e-ed82-abca6dd72bfe"
      },
      "source": [
        "correct_answer = [a+b+c+d for a in lowercase for b in lowercase for c in digits for d in digits]\n",
        "correct_answer[:10] # Display first 50 ids"
      ],
      "execution_count": 19,
      "outputs": [
        {
          "output_type": "execute_result",
          "data": {
            "text/plain": [
              "['aa00',\n",
              " 'aa01',\n",
              " 'aa02',\n",
              " 'aa03',\n",
              " 'aa04',\n",
              " 'aa05',\n",
              " 'aa06',\n",
              " 'aa07',\n",
              " 'aa08',\n",
              " 'aa09']"
            ]
          },
          "metadata": {
            "tags": []
          },
          "execution_count": 19
        }
      ]
    }
  ]
}