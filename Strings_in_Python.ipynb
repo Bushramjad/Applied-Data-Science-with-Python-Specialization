{
  "nbformat": 4,
  "nbformat_minor": 0,
  "metadata": {
    "colab": {
      "name": "Strings in Python.ipynb",
      "provenance": [],
      "authorship_tag": "ABX9TyNhVA+WHhdPDvLIdHOdH6t5"
    },
    "kernelspec": {
      "name": "python3",
      "display_name": "Python 3"
    },
    "language_info": {
      "name": "python"
    }
  },
  "cells": [
    {
      "cell_type": "markdown",
      "metadata": {
        "id": "IyC7m7H8SBpG"
      },
      "source": [
        "Slicing"
      ]
    },
    {
      "cell_type": "code",
      "metadata": {
        "colab": {
          "base_uri": "https://localhost:8080/",
          "height": 35
        },
        "id": "PX_adO7TKlll",
        "outputId": "e72c98c6-e091-455d-9008-85bd1e8f5161"
      },
      "source": [
        "a = \"This is a book\"\n",
        "a"
      ],
      "execution_count": 3,
      "outputs": [
        {
          "output_type": "execute_result",
          "data": {
            "application/vnd.google.colaboratory.intrinsic+json": {
              "type": "string"
            },
            "text/plain": [
              "'This is a book'"
            ]
          },
          "metadata": {
            "tags": []
          },
          "execution_count": 3
        }
      ]
    },
    {
      "cell_type": "code",
      "metadata": {
        "colab": {
          "base_uri": "https://localhost:8080/",
          "height": 35
        },
        "id": "1TzD9ILNOy-5",
        "outputId": "79ea013f-f71c-430c-8a83-61c7218d6ee3"
      },
      "source": [
        "a[0:6]"
      ],
      "execution_count": 6,
      "outputs": [
        {
          "output_type": "execute_result",
          "data": {
            "application/vnd.google.colaboratory.intrinsic+json": {
              "type": "string"
            },
            "text/plain": [
              "'This i'"
            ]
          },
          "metadata": {
            "tags": []
          },
          "execution_count": 6
        }
      ]
    },
    {
      "cell_type": "code",
      "metadata": {
        "colab": {
          "base_uri": "https://localhost:8080/",
          "height": 35
        },
        "id": "vDQTwI2MOzg2",
        "outputId": "d56b41b3-27d7-4ec6-ee2c-dfff61a0ee56"
      },
      "source": [
        "a[:3]"
      ],
      "execution_count": 7,
      "outputs": [
        {
          "output_type": "execute_result",
          "data": {
            "application/vnd.google.colaboratory.intrinsic+json": {
              "type": "string"
            },
            "text/plain": [
              "'Thi'"
            ]
          },
          "metadata": {
            "tags": []
          },
          "execution_count": 7
        }
      ]
    },
    {
      "cell_type": "code",
      "metadata": {
        "colab": {
          "base_uri": "https://localhost:8080/",
          "height": 35
        },
        "id": "FYtsq-lUPVcz",
        "outputId": "bdafe2a0-7603-443a-e04c-e95415f9d857"
      },
      "source": [
        "a[3:]"
      ],
      "execution_count": 8,
      "outputs": [
        {
          "output_type": "execute_result",
          "data": {
            "application/vnd.google.colaboratory.intrinsic+json": {
              "type": "string"
            },
            "text/plain": [
              "'s is a book'"
            ]
          },
          "metadata": {
            "tags": []
          },
          "execution_count": 8
        }
      ]
    },
    {
      "cell_type": "code",
      "metadata": {
        "colab": {
          "base_uri": "https://localhost:8080/",
          "height": 35
        },
        "id": "tJ1Mi9ZRPW7v",
        "outputId": "40e4bc66-966a-4561-a276-333c7e5317ec"
      },
      "source": [
        "b ='Dr. Christopher Brooks'\n",
        "b[4:15]"
      ],
      "execution_count": 10,
      "outputs": [
        {
          "output_type": "execute_result",
          "data": {
            "application/vnd.google.colaboratory.intrinsic+json": {
              "type": "string"
            },
            "text/plain": [
              "'Christopher'"
            ]
          },
          "metadata": {
            "tags": []
          },
          "execution_count": 10
        }
      ]
    },
    {
      "cell_type": "markdown",
      "metadata": {
        "id": "8Zjeth7QSERm"
      },
      "source": [
        "Addtion and multiplication"
      ]
    },
    {
      "cell_type": "code",
      "metadata": {
        "colab": {
          "base_uri": "https://localhost:8080/"
        },
        "id": "rYjYRzf9Pkba",
        "outputId": "2e16a930-1c0a-4afa-cfa5-f1edf97b0b4c"
      },
      "source": [
        "firstname = 'bushra'\n",
        "lastname = 'amjad'\n",
        "\n",
        "print(firstname + ' ' + lastname)\n",
        "print(firstname * 3)"
      ],
      "execution_count": 12,
      "outputs": [
        {
          "output_type": "stream",
          "text": [
            "bushra amjad\n",
            "bushrabushrabushra\n"
          ],
          "name": "stdout"
        }
      ]
    },
    {
      "cell_type": "code",
      "metadata": {
        "colab": {
          "base_uri": "https://localhost:8080/"
        },
        "id": "QYwzQtZIQWPh",
        "outputId": "ea060901-0a71-4888-e4d7-b4dc561e111e"
      },
      "source": [
        "firstname = 'bushra amjad christopher brooks'.split(' ')[0]\n",
        "lastname = 'ayesha amjad brooks christopher'.split(' ')[-1]\n",
        "print(firstname)\n",
        "print(lastname)"
      ],
      "execution_count": 15,
      "outputs": [
        {
          "output_type": "stream",
          "text": [
            "bushra\n",
            "christopher\n"
          ],
          "name": "stdout"
        }
      ]
    },
    {
      "cell_type": "markdown",
      "metadata": {
        "id": "KAAqt0L7SHI6"
      },
      "source": [
        "Dictionaries"
      ]
    },
    {
      "cell_type": "code",
      "metadata": {
        "id": "87lPKzphQ3RV"
      },
      "source": [
        "dict = {'bushra' : 'bushramjad16@gmail.com', 'ayesha' : 'ayeshamajad45@gmail.com'}"
      ],
      "execution_count": 18,
      "outputs": []
    },
    {
      "cell_type": "code",
      "metadata": {
        "colab": {
          "base_uri": "https://localhost:8080/"
        },
        "id": "nrlMdZPaRlLG",
        "outputId": "937d2e47-745f-42b0-8812-b3ccb946ddcb"
      },
      "source": [
        "dict"
      ],
      "execution_count": 19,
      "outputs": [
        {
          "output_type": "execute_result",
          "data": {
            "text/plain": [
              "{'ayesha': 'ayeshamajad45@gmail.com', 'bushra': 'bushramjad16@gmail.com'}"
            ]
          },
          "metadata": {
            "tags": []
          },
          "execution_count": 19
        }
      ]
    },
    {
      "cell_type": "code",
      "metadata": {
        "colab": {
          "base_uri": "https://localhost:8080/"
        },
        "id": "40EVrVaVRmn1",
        "outputId": "6ae8aad4-657f-4585-f04f-b089814f3d07"
      },
      "source": [
        "for name in dict:\n",
        "  print(dict[name])"
      ],
      "execution_count": 21,
      "outputs": [
        {
          "output_type": "stream",
          "text": [
            "bushramjad16@gmail.com\n",
            "ayeshamajad45@gmail.com\n"
          ],
          "name": "stdout"
        }
      ]
    },
    {
      "cell_type": "code",
      "metadata": {
        "colab": {
          "base_uri": "https://localhost:8080/"
        },
        "id": "7WO0N0gKRx7_",
        "outputId": "e1a34518-7402-4e19-f25c-bd8e8b47b1dc"
      },
      "source": [
        "for email in dict.values():\n",
        "  print(email)"
      ],
      "execution_count": 22,
      "outputs": [
        {
          "output_type": "stream",
          "text": [
            "bushramjad16@gmail.com\n",
            "ayeshamajad45@gmail.com\n"
          ],
          "name": "stdout"
        }
      ]
    },
    {
      "cell_type": "code",
      "metadata": {
        "colab": {
          "base_uri": "https://localhost:8080/"
        },
        "id": "eFM5FEyIR76f",
        "outputId": "a4b48f62-2b90-431d-b180-eb243ffe4470"
      },
      "source": [
        "for name, email in dict.items():\n",
        "  print(name)\n",
        "  print(email)"
      ],
      "execution_count": 24,
      "outputs": [
        {
          "output_type": "stream",
          "text": [
            "bushra\n",
            "bushramjad16@gmail.com\n",
            "ayesha\n",
            "ayeshamajad45@gmail.com\n"
          ],
          "name": "stdout"
        }
      ]
    },
    {
      "cell_type": "markdown",
      "metadata": {
        "id": "DRTDkDiFSxKM"
      },
      "source": [
        "Unpacking of Tuple"
      ]
    },
    {
      "cell_type": "code",
      "metadata": {
        "colab": {
          "base_uri": "https://localhost:8080/"
        },
        "id": "nB-m-CHMSzcI",
        "outputId": "a5763c21-f984-49be-f9b2-3ec3890dd34f"
      },
      "source": [
        "x = ('bushra', 'amjad', 'ahmad')\n",
        "a, b, c = x\n",
        "print(a)\n",
        "print(b)\n",
        "print(c)"
      ],
      "execution_count": 25,
      "outputs": [
        {
          "output_type": "stream",
          "text": [
            "bushra\n",
            "amjad\n",
            "ahmad\n"
          ],
          "name": "stdout"
        }
      ]
    },
    {
      "cell_type": "markdown",
      "metadata": {
        "id": "Bts-buShT_ZG"
      },
      "source": [
        "Format"
      ]
    },
    {
      "cell_type": "code",
      "metadata": {
        "id": "h9eFPHgWSbuO"
      },
      "source": [
        "dict = {'name' : 'bushra', 'email' : 'bushramjad16@gmail.com'}"
      ],
      "execution_count": 32,
      "outputs": []
    },
    {
      "cell_type": "code",
      "metadata": {
        "id": "CVmeD-D1UDE0"
      },
      "source": [
        "stmt = '{} is a girl and her email id is {}'"
      ],
      "execution_count": 33,
      "outputs": []
    },
    {
      "cell_type": "code",
      "metadata": {
        "colab": {
          "base_uri": "https://localhost:8080/"
        },
        "id": "o0yvxg-BUNds",
        "outputId": "6a53ec45-7038-4397-f78c-f0a004df47ad"
      },
      "source": [
        "print(stmt.format(dict['name'], dict['email']))"
      ],
      "execution_count": 34,
      "outputs": [
        {
          "output_type": "stream",
          "text": [
            "bushra is a girl and her email id is bushramjad16@gmail.com\n"
          ],
          "name": "stdout"
        }
      ]
    },
    {
      "cell_type": "code",
      "metadata": {
        "id": "Eausu5CcdrDc"
      },
      "source": [
        ""
      ],
      "execution_count": null,
      "outputs": []
    }
  ]
}